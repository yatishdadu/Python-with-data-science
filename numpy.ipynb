{
 "cells": [
  {
   "cell_type": "code",
   "execution_count": null,
   "metadata": {},
   "outputs": [],
   "source": []
  },
  {
   "cell_type": "code",
   "execution_count": 2,
   "metadata": {},
   "outputs": [
    {
     "name": "stdout",
     "output_type": "stream",
     "text": [
      "<class 'numpy.ndarray'>\n"
     ]
    }
   ],
   "source": [
    "import numpy as np\n",
    "an_array = np.array([12,23,34])\n",
    "print(type(an_array))"
   ]
  },
  {
   "cell_type": "code",
   "execution_count": 3,
   "metadata": {},
   "outputs": [
    {
     "name": "stdout",
     "output_type": "stream",
     "text": [
      "(3,)\n"
     ]
    }
   ],
   "source": [
    "print(an_array.shape)"
   ]
  },
  {
   "cell_type": "code",
   "execution_count": 4,
   "metadata": {},
   "outputs": [
    {
     "name": "stdout",
     "output_type": "stream",
     "text": [
      "[888  23  34]\n"
     ]
    }
   ],
   "source": [
    "an_array[0]=888\n",
    "print(an_array)"
   ]
  },
  {
   "cell_type": "code",
   "execution_count": 5,
   "metadata": {},
   "outputs": [
    {
     "name": "stdout",
     "output_type": "stream",
     "text": [
      "[[ 1  2  3]\n",
      " [23 24 25]]\n",
      "accessing the shape of another (2, 3)\n",
      "accessing the numericals[0,0] [0,1] [1,0] 1 2 23\n"
     ]
    }
   ],
   "source": [
    "another = np.array([[1,2,3],[23,24,25]])\n",
    "print(another)\n",
    "\n",
    "print(\"accessing the shape of another\",another.shape)\n",
    "print(\"accessing the numericals[0,0] [0,1] [1,0]\",another[0,0],another[0,1],another[1,0])"
   ]
  },
  {
   "cell_type": "code",
   "execution_count": 6,
   "metadata": {},
   "outputs": [
    {
     "name": "stdout",
     "output_type": "stream",
     "text": [
      "[[1. 0.]\n",
      " [0. 1.]]\n"
     ]
    }
   ],
   "source": [
    "ex4 = np.eye(2,2)\n",
    "print(ex4)"
   ]
  },
  {
   "cell_type": "code",
   "execution_count": 7,
   "metadata": {},
   "outputs": [
    {
     "name": "stdout",
     "output_type": "stream",
     "text": [
      "[]\n"
     ]
    }
   ],
   "source": [
    "ex3 = np.full((2,0), 9.0)\n",
    "print(ex3)"
   ]
  },
  {
   "cell_type": "code",
   "execution_count": 8,
   "metadata": {},
   "outputs": [
    {
     "name": "stdout",
     "output_type": "stream",
     "text": [
      "[[0.09091252 0.54259335]\n",
      " [0.55434738 0.56024569]]\n"
     ]
    }
   ],
   "source": [
    "ex5 = np.random.random((2,2))\n",
    "print(ex5)"
   ]
  },
  {
   "cell_type": "markdown",
   "metadata": {},
   "source": [
    "# numpy ndarrays indexing\n",
    "\n",
    "*chapter 2*"
   ]
  },
  {
   "cell_type": "markdown",
   "metadata": {},
   "source": [
    "**Slicing**\n"
   ]
  },
  {
   "cell_type": "code",
   "execution_count": 9,
   "metadata": {},
   "outputs": [
    {
     "name": "stdout",
     "output_type": "stream",
     "text": [
      "[[34 23]\n",
      " [27 34]]\n"
     ]
    }
   ],
   "source": [
    "a_array = np.array([[23,34,23],[34,27,34],[100,200,800]])\n",
    "a_slicing = a_array[:2,1:3]\n",
    "print(a_slicing)"
   ]
  },
  {
   "cell_type": "code",
   "execution_count": 10,
   "metadata": {},
   "outputs": [
    {
     "name": "stdout",
     "output_type": "stream",
     "text": [
      "before: 34\n",
      "after: 1000\n"
     ]
    }
   ],
   "source": [
    "print(\"before:\",a_array[0,1])\n",
    "a_slicing[0,0]=1000\n",
    "print(\"after:\",a_array[0,1])"
   ]
  },
  {
   "cell_type": "code",
   "execution_count": 11,
   "metadata": {},
   "outputs": [
    {
     "name": "stdout",
     "output_type": "stream",
     "text": [
      "before: 1000\n",
      "after: 1000\n"
     ]
    }
   ],
   "source": [
    "print(\"before:\",a_array[0,1])\n",
    "a_slicing[0,0] - 1000\n",
    "print(\"after:\",a_array[0,1])"
   ]
  },
  {
   "cell_type": "code",
   "execution_count": 12,
   "metadata": {},
   "outputs": [
    {
     "name": "stdout",
     "output_type": "stream",
     "text": [
      "before: 34\n",
      "after: 34\n"
     ]
    }
   ],
   "source": [
    "a_array[0,1] = 34\n",
    "print(\"before:\",a_array[0,1])\n",
    "a_slicing[0,0]-1000\n",
    "print(\"after:\",a_array[0,1])"
   ]
  },
  {
   "cell_type": "markdown",
   "metadata": {},
   "source": [
    "# use both indexing and slice indexing\n"
   ]
  },
  {
   "cell_type": "code",
   "execution_count": 13,
   "metadata": {},
   "outputs": [
    {
     "name": "stdout",
     "output_type": "stream",
     "text": [
      "[34 27 34]\n"
     ]
    }
   ],
   "source": [
    "#use both indexing and slice indexing\n",
    "a_array = np.array([[23,34,23],[34,27,34],[100,200,800]])\n",
    "row_rank1=a_array[1,:]\n",
    "print(row_rank1)"
   ]
  },
  {
   "cell_type": "code",
   "execution_count": 14,
   "metadata": {},
   "outputs": [
    {
     "name": "stdout",
     "output_type": "stream",
     "text": [
      "[[34 27 34]] (1, 3)\n"
     ]
    }
   ],
   "source": [
    "#use both indexing and slice indexing\n",
    "a_array = np.array([[23,34,23],[34,27,34],[100,200,800]])\n",
    "row_rank2=a_array[1:2,:]\n",
    "print(row_rank2,row_rank2.shape)"
   ]
  },
  {
   "cell_type": "code",
   "execution_count": 15,
   "metadata": {},
   "outputs": [
    {
     "name": "stdout",
     "output_type": "stream",
     "text": [
      "[ 34  27 200]\n"
     ]
    }
   ],
   "source": [
    "#use both indexing and slice indexing\n",
    "a_array = np.array([[23,34,23],[34,27,34],[100,200,800]])\n",
    "col_rank1=a_array[:,1]\n",
    "print(col_rank1)"
   ]
  },
  {
   "cell_type": "code",
   "execution_count": 16,
   "metadata": {},
   "outputs": [
    {
     "name": "stdout",
     "output_type": "stream",
     "text": [
      "[ 34  27 200] (1, 3)\n"
     ]
    }
   ],
   "source": [
    "#use both indexing and slice indexing\n",
    "a_array = np.array([[23,34,23],[34,27,34],[100,200,800]])\n",
    "col_rank1=a_array[:,1]\n",
    "print(col_rank1,row_rank2.shape)"
   ]
  },
  {
   "cell_type": "markdown",
   "metadata": {},
   "source": [
    "# array indexing for changing elements\n"
   ]
  },
  {
   "cell_type": "code",
   "execution_count": 17,
   "metadata": {},
   "outputs": [],
   "source": [
    "a_array = np.array([[23,34,23],[34,27,34],[100,200,800]])\n",
    "a_indecies = np.array([[0,1,2],[10,20,30],[90,20,30]])\n"
   ]
  },
  {
   "cell_type": "code",
   "execution_count": 18,
   "metadata": {},
   "outputs": [
    {
     "name": "stdout",
     "output_type": "stream",
     "text": [
      "column indicies\n",
      " [0 1 2 3]\n",
      "row indicies\n",
      " [0 1 2 3]\n"
     ]
    }
   ],
   "source": [
    "col_indicies = np.array([0,1,2,3])\n",
    "print(\"column indicies\\n\",col_indicies)\n",
    "row_indicies = np.arange(4)\n",
    "print(\"row indicies\\n\",row_indicies)"
   ]
  },
  {
   "cell_type": "code",
   "execution_count": 19,
   "metadata": {},
   "outputs": [
    {
     "name": "stdout",
     "output_type": "stream",
     "text": [
      "0 : 0\n",
      "1 : 1\n",
      "2 : 2\n",
      "3 : 3\n"
     ]
    }
   ],
   "source": [
    "for row,col in zip(row_indicies,col_indicies):\n",
    "    print(row, \":\", col)"
   ]
  },
  {
   "cell_type": "code",
   "execution_count": 20,
   "metadata": {},
   "outputs": [
    {
     "name": "stdout",
     "output_type": "stream",
     "text": [
      "adding values of row and col indicies into a_array\n",
      " [[ 23  34  23]\n",
      " [ 34  27  34]\n",
      " [100 200 800]]\n"
     ]
    }
   ],
   "source": [
    "a_array1 = np.array([row_indicies,col_indicies])\n",
    "print(\"adding values of row and col indicies into a_array\\n\",a_array)"
   ]
  },
  {
   "cell_type": "code",
   "execution_count": 21,
   "metadata": {},
   "outputs": [
    {
     "name": "stdout",
     "output_type": "stream",
     "text": [
      "after adding \n",
      " [[15 16 17 18]\n",
      " [15 16 17 18]]\n"
     ]
    }
   ],
   "source": [
    "a_array1[:,:]+=15\n",
    "print(\"after adding \\n\", a_array1)"
   ]
  },
  {
   "cell_type": "code",
   "execution_count": 22,
   "metadata": {},
   "outputs": [
    {
     "name": "stdout",
     "output_type": "stream",
     "text": [
      "[[15 16 17 18]\n",
      " [15 16 17 18]]\n"
     ]
    }
   ],
   "source": [
    "print(a_array1[:2,])"
   ]
  },
  {
   "cell_type": "code",
   "execution_count": 24,
   "metadata": {},
   "outputs": [
    {
     "name": "stdout",
     "output_type": "stream",
     "text": [
      "[[15 16 17 18]\n",
      " [15 16 17 18]]\n"
     ]
    }
   ],
   "source": [
    "a_slice = np.array(a_array1[:2,:])\n",
    "print(a_slice)"
   ]
  },
  {
   "cell_type": "markdown",
   "metadata": {},
   "source": [
    "# numpy code using Boolean array\n"
   ]
  },
  {
   "cell_type": "code",
   "execution_count": 27,
   "metadata": {},
   "outputs": [
    {
     "name": "stdout",
     "output_type": "stream",
     "text": [
      "[[  11   12   13]\n",
      " [  33   34  333]\n",
      " [  22  222 2222]]\n"
     ]
    }
   ],
   "source": [
    "an_array = np.array([[11,12,13],[33,34,333],[22,222,2222]])\n",
    "print(an_array)"
   ]
  },
  {
   "cell_type": "code",
   "execution_count": 29,
   "metadata": {},
   "outputs": [
    {
     "data": {
      "text/plain": [
       "array([[False, False, False],\n",
       "       [ True,  True,  True],\n",
       "       [ True,  True,  True]])"
      ]
     },
     "execution_count": 29,
     "metadata": {},
     "output_type": "execute_result"
    }
   ],
   "source": [
    "# create a filter, filter is used to filter out the unnecessary terms\n",
    "filter = (an_array>15)\n",
    "filter"
   ]
  },
  {
   "cell_type": "code",
   "execution_count": 30,
   "metadata": {},
   "outputs": [
    {
     "name": "stdout",
     "output_type": "stream",
     "text": [
      "[  33   34  333   22  222 2222]\n"
     ]
    }
   ],
   "source": [
    "print(an_array[filter])"
   ]
  },
  {
   "cell_type": "code",
   "execution_count": 31,
   "metadata": {},
   "outputs": [
    {
     "data": {
      "text/plain": [
       "array([  33,   34,  333,   22,  222, 2222])"
      ]
     },
     "execution_count": 31,
     "metadata": {},
     "output_type": "execute_result"
    }
   ],
   "source": [
    "#for shorter version \n",
    "an_array[an_array>15]"
   ]
  },
  {
   "cell_type": "code",
   "execution_count": 33,
   "metadata": {},
   "outputs": [
    {
     "name": "stdout",
     "output_type": "stream",
     "text": [
      "[[  11  212   13]\n",
      " [  33  234  333]\n",
      " [ 222  422 2422]]\n"
     ]
    }
   ],
   "source": [
    "an_array[an_array % 2 ==0] +=100\n",
    "print(an_array)"
   ]
  },
  {
   "cell_type": "code",
   "execution_count": 38,
   "metadata": {},
   "outputs": [
    {
     "data": {
      "text/plain": [
       "array([33])"
      ]
     },
     "execution_count": 38,
     "metadata": {},
     "output_type": "execute_result"
    }
   ],
   "source": [
    "an_array[(an_array>20)&(an_array<200)]\n"
   ]
  },
  {
   "cell_type": "code",
   "execution_count": 39,
   "metadata": {},
   "outputs": [
    {
     "name": "stdout",
     "output_type": "stream",
     "text": [
      "[11 12 13]\n"
     ]
    }
   ],
   "source": [
    "# arithematic operations \n",
    "ex1 = np.array([11,12,13],dtype=np.int64)\n",
    "print(ex1)"
   ]
  },
  {
   "cell_type": "code",
   "execution_count": 44,
   "metadata": {},
   "outputs": [
    {
     "name": "stdout",
     "output_type": "stream",
     "text": [
      "[11.3 12.6 13.9]\n"
     ]
    }
   ],
   "source": [
    "ex2 = np.array([11.3,12.6,13.9],dtype=np.float64)\n",
    "print(ex2)"
   ]
  },
  {
   "cell_type": "code",
   "execution_count": 45,
   "metadata": {},
   "outputs": [
    {
     "name": "stdout",
     "output_type": "stream",
     "text": [
      "[22.3 24.6 26.9]\n"
     ]
    }
   ],
   "source": [
    "print(ex1+ex2)"
   ]
  },
  {
   "cell_type": "code",
   "execution_count": 46,
   "metadata": {},
   "outputs": [
    {
     "name": "stdout",
     "output_type": "stream",
     "text": [
      "[-0.3 -0.6 -0.9]\n"
     ]
    }
   ],
   "source": [
    "print(ex1-ex2)"
   ]
  },
  {
   "cell_type": "markdown",
   "metadata": {},
   "source": [
    "# Numpy, Statistical, Sorting, and Set Operations"
   ]
  },
  {
   "cell_type": "code",
   "execution_count": 51,
   "metadata": {},
   "outputs": [
    {
     "name": "stdout",
     "output_type": "stream",
     "text": [
      "[[ 9.2861688  10.52716607  9.51490513  8.75059811 11.40227977]\n",
      " [11.39238827 10.98588205 10.13445338 10.74638983  8.62732272]]\n"
     ]
    }
   ],
   "source": [
    "arr = 10 + np.random.randn(2,5)\n",
    "print(arr)"
   ]
  },
  {
   "cell_type": "code",
   "execution_count": 52,
   "metadata": {},
   "outputs": [
    {
     "name": "stdout",
     "output_type": "stream",
     "text": [
      "10.136755411076226\n"
     ]
    }
   ],
   "source": [
    "print(arr.mean())"
   ]
  },
  {
   "cell_type": "code",
   "execution_count": 54,
   "metadata": {},
   "outputs": [
    {
     "name": "stdout",
     "output_type": "stream",
     "text": [
      "[10.33927853 10.75652406  9.82467925  9.74849397 10.01480124]\n"
     ]
    }
   ],
   "source": [
    "print(arr.mean(axis=0))"
   ]
  },
  {
   "cell_type": "code",
   "execution_count": 56,
   "metadata": {},
   "outputs": [
    {
     "name": "stdout",
     "output_type": "stream",
     "text": [
      "101.36755411076227\n"
     ]
    }
   ],
   "source": [
    "print(arr.sum())\n"
   ]
  },
  {
   "cell_type": "code",
   "execution_count": 58,
   "metadata": {},
   "outputs": [
    {
     "name": "stdout",
     "output_type": "stream",
     "text": [
      "[ 9.51490513 10.74638983]\n"
     ]
    }
   ],
   "source": [
    "#to compute the medians\n",
    "print(np.median(arr,axis = 1))"
   ]
  },
  {
   "cell_type": "markdown",
   "metadata": {},
   "source": [
    "# sorting"
   ]
  },
  {
   "cell_type": "code",
   "execution_count": 60,
   "metadata": {},
   "outputs": [
    {
     "name": "stdout",
     "output_type": "stream",
     "text": [
      "[[-0.83649784  0.84237671  0.20471645 -0.67871083 -0.73980233]\n",
      " [ 0.58406301  0.13288001 -0.07116147 -0.52942062  2.60416375]]\n"
     ]
    }
   ],
   "source": [
    "#create the 10 elements arrays of random\n",
    "unsorted = np.random.randn(2,5)\n",
    "print(unsorted)"
   ]
  },
  {
   "cell_type": "code",
   "execution_count": 64,
   "metadata": {},
   "outputs": [
    {
     "name": "stdout",
     "output_type": "stream",
     "text": [
      "[[-0.83649784  0.84237671  0.20471645 -0.67871083 -0.73980233]\n",
      " [ 0.58406301  0.13288001 -0.07116147 -0.52942062  2.60416375]]\n",
      "\n",
      "[[-0.83649784  0.84237671  0.20471645 -0.67871083 -0.73980233]\n",
      " [ 0.58406301  0.13288001 -0.07116147 -0.52942062  2.60416375]]\n"
     ]
    }
   ],
   "source": [
    "#create a copy and sort\n",
    "sorted = np.array(unsorted)\n",
    "print(sorted)\n",
    "print()\n",
    "print(unsorted)"
   ]
  },
  {
   "cell_type": "code",
   "execution_count": 66,
   "metadata": {},
   "outputs": [
    {
     "name": "stdout",
     "output_type": "stream",
     "text": [
      "[[-0.83649784 -0.73980233 -0.67871083  0.20471645  0.84237671]\n",
      " [-0.52942062 -0.07116147  0.13288001  0.58406301  2.60416375]]\n"
     ]
    }
   ],
   "source": [
    "unsorted.sort()\n",
    "\n",
    "print(unsorted)"
   ]
  },
  {
   "cell_type": "markdown",
   "metadata": {},
   "source": [
    "# finding the unique elements"
   ]
  },
  {
   "cell_type": "code",
   "execution_count": 68,
   "metadata": {},
   "outputs": [
    {
     "name": "stdout",
     "output_type": "stream",
     "text": [
      "[ 12  22  34 333]\n"
     ]
    }
   ],
   "source": [
    "a=np.array([12,22,12,333,12,34])\n",
    "\n",
    "print(np.unique(a))"
   ]
  },
  {
   "cell_type": "markdown",
   "metadata": {},
   "source": [
    "# set operations with np.array data type"
   ]
  },
  {
   "cell_type": "code",
   "execution_count": 69,
   "metadata": {},
   "outputs": [
    {
     "name": "stdout",
     "output_type": "stream",
     "text": [
      "['sit' 'desk' 'punch'] ['eat' 'sit' 'jump' 'punch']\n"
     ]
    }
   ],
   "source": [
    "s1 = np.array(['sit','desk','punch'])\n",
    "s2=np.array(['eat','sit','jump','punch'])\n",
    "print(s1,s2)"
   ]
  },
  {
   "cell_type": "code",
   "execution_count": 71,
   "metadata": {},
   "outputs": [
    {
     "name": "stdout",
     "output_type": "stream",
     "text": [
      "['punch' 'sit']\n"
     ]
    }
   ],
   "source": [
    "print(np.intersect1d(s1,s2))"
   ]
  },
  {
   "cell_type": "code",
   "execution_count": 72,
   "metadata": {},
   "outputs": [
    {
     "name": "stdout",
     "output_type": "stream",
     "text": [
      "['desk' 'eat' 'jump' 'punch' 'sit']\n"
     ]
    }
   ],
   "source": [
    "print(np.union1d(s1,s2))"
   ]
  },
  {
   "cell_type": "code",
   "execution_count": 74,
   "metadata": {},
   "outputs": [
    {
     "name": "stdout",
     "output_type": "stream",
     "text": [
      "['desk']\n"
     ]
    }
   ],
   "source": [
    "print(np.setdiff1d(s1,s2))"
   ]
  },
  {
   "cell_type": "code",
   "execution_count": 75,
   "metadata": {},
   "outputs": [
    {
     "name": "stdout",
     "output_type": "stream",
     "text": [
      "[ True False  True]\n"
     ]
    }
   ],
   "source": [
    "print(np.in1d(s1,s2))"
   ]
  },
  {
   "cell_type": "markdown",
   "metadata": {},
   "source": [
    "# Broadcasting"
   ]
  },
  {
   "cell_type": "code",
   "execution_count": 80,
   "metadata": {},
   "outputs": [
    {
     "name": "stdout",
     "output_type": "stream",
     "text": [
      "[[0. 0. 0.]\n",
      " [0. 0. 0.]\n",
      " [0. 0. 0.]\n",
      " [0. 0. 0.]]\n"
     ]
    }
   ],
   "source": [
    "start = np.zeros((4,3))\n",
    "print(start)"
   ]
  },
  {
   "cell_type": "code",
   "execution_count": 85,
   "metadata": {},
   "outputs": [
    {
     "name": "stdout",
     "output_type": "stream",
     "text": [
      "[1 0 3]\n"
     ]
    }
   ],
   "source": [
    "add_rows = np.array([1,0,3])\n",
    "print(add_rows)"
   ]
  },
  {
   "cell_type": "code",
   "execution_count": 86,
   "metadata": {},
   "outputs": [
    {
     "name": "stdout",
     "output_type": "stream",
     "text": [
      "[[1. 0. 3.]\n",
      " [1. 0. 3.]\n",
      " [1. 0. 3.]\n",
      " [1. 0. 3.]]\n"
     ]
    }
   ],
   "source": [
    "y = start + add_rows\n",
    "print(y)"
   ]
  },
  {
   "cell_type": "code",
   "execution_count": 87,
   "metadata": {},
   "outputs": [
    {
     "name": "stdout",
     "output_type": "stream",
     "text": [
      "[[1]\n",
      " [0]\n",
      " [3]\n",
      " [4]]\n"
     ]
    }
   ],
   "source": [
    "add_cols = np.array([[1,0,3,4]])\n",
    "add_cols = add_cols.T\n",
    "print(add_cols)"
   ]
  },
  {
   "cell_type": "code",
   "execution_count": 90,
   "metadata": {},
   "outputs": [
    {
     "name": "stdout",
     "output_type": "stream",
     "text": [
      "[[1. 1. 1.]\n",
      " [0. 0. 0.]\n",
      " [3. 3. 3.]\n",
      " [4. 4. 4.]]\n"
     ]
    }
   ],
   "source": [
    "#add to each column of 'start' using broadcasting\n",
    "y = start + add_cols\n",
    "print(y)"
   ]
  },
  {
   "cell_type": "code",
   "execution_count": 91,
   "metadata": {},
   "outputs": [
    {
     "name": "stdout",
     "output_type": "stream",
     "text": [
      "[[1. 1. 1.]\n",
      " [1. 1. 1.]\n",
      " [1. 1. 1.]\n",
      " [1. 1. 1.]]\n"
     ]
    }
   ],
   "source": [
    "# this will just broadcast in both dimensions\n",
    "add_scalar = np.array([1])\n",
    "print(start+add_scalar)"
   ]
  },
  {
   "cell_type": "markdown",
   "metadata": {},
   "source": [
    "# speed test: ndarrys vs list\n",
    "\n",
    "* First setup parameter for speed test. well be testing time for some elements in the ndarray versus list\n"
   ]
  },
  {
   "cell_type": "code",
   "execution_count": 95,
   "metadata": {},
   "outputs": [],
   "source": [
    "from numpy import arange\n",
    "from timeit import Timer\n",
    "\n",
    "\n",
    "size=1000000\n",
    "timeits=1000\n"
   ]
  },
  {
   "cell_type": "code",
   "execution_count": 96,
   "metadata": {},
   "outputs": [
    {
     "name": "stdout",
     "output_type": "stream",
     "text": [
      "<class 'numpy.ndarray'>\n"
     ]
    }
   ],
   "source": [
    "#create the ndarray with the values [1,2,3,4,......,size]\n",
    "ndarray = arange(size)\n",
    "print(type(ndarray))"
   ]
  },
  {
   "cell_type": "code",
   "execution_count": 103,
   "metadata": {},
   "outputs": [
    {
     "name": "stdout",
     "output_type": "stream",
     "text": [
      "time taken by ndarray: 0.000451 seconds\n"
     ]
    }
   ],
   "source": [
    "# timer expects operations as parameter.\n",
    "#here we can pass ndarray.sum()\n",
    "\n",
    "timer_numpy = Timer(\"ndarray.sum()\",\"from __main__ import ndarray\")\n",
    "\n",
    "print(\"time taken by ndarray: %f seconds\" %\n",
    "      (timer_numpy.timeit(timeits)/timeits))"
   ]
  },
  {
   "cell_type": "code",
   "execution_count": 104,
   "metadata": {},
   "outputs": [
    {
     "name": "stdout",
     "output_type": "stream",
     "text": [
      "<class 'list'>\n"
     ]
    }
   ],
   "source": [
    "#create a list with the values 1,2,3,4,....,size-1\n",
    "\n",
    "a_list = list(range(size))\n",
    "print(type(a_list))"
   ]
  },
  {
   "cell_type": "code",
   "execution_count": 105,
   "metadata": {},
   "outputs": [
    {
     "name": "stdout",
     "output_type": "stream",
     "text": [
      "time taken by ndarray: 0.000460 seconds\n"
     ]
    }
   ],
   "source": [
    "# timer expects operations as parameter.\n",
    "#here we can pass a_list\n",
    "\n",
    "timer_list = Timer(\"sum(a_list)\",\"from __main__ import a_list\")\n",
    "\n",
    "print(\"time taken by ndarray: %f seconds\" %\n",
    "      (timer_numpy.timeit(timeits)/timeits))"
   ]
  },
  {
   "cell_type": "code",
   "execution_count": null,
   "metadata": {},
   "outputs": [],
   "source": []
  }
 ],
 "metadata": {
  "kernelspec": {
   "display_name": "Python 3",
   "language": "python",
   "name": "python3"
  },
  "language_info": {
   "codemirror_mode": {
    "name": "ipython",
    "version": 3
   },
   "file_extension": ".py",
   "mimetype": "text/x-python",
   "name": "python",
   "nbconvert_exporter": "python",
   "pygments_lexer": "ipython3",
   "version": "3.7.3"
  }
 },
 "nbformat": 4,
 "nbformat_minor": 2
}
